{
 "cells": [
  {
   "cell_type": "markdown",
   "id": "2233822a-69dc-4093-ad8f-0caf175ac21e",
   "metadata": {},
   "source": [
    "# border detection success"
   ]
  },
  {
   "cell_type": "code",
   "execution_count": 2,
   "id": "0a6a3945-61d7-449f-9153-c0b32e50a8ae",
   "metadata": {},
   "outputs": [],
   "source": [
    "import cv2\n",
    "import numpy as np\n",
    "import pyautogui\n",
    "import time\n",
    "\n",
    "def get_screen():\n",
    "    x, y, width, height = 60, 65, 480, 432  # Emulator window region\n",
    "    screenshot = pyautogui.screenshot(region=(x, y, width, height))\n",
    "    return cv2.cvtColor(np.array(screenshot), cv2.COLOR_RGB2BGR)\n",
    "\n",
    "def detect_game_border(screen):\n",
    "    screen_height, screen_width, _ = screen.shape\n",
    "    border_color_bgr = np.array([68, 68, 72], dtype=np.uint8) # #484444 的 BGR 值\n",
    "\n",
    "    top_border = 0\n",
    "    while top_border < screen_height and np.all(screen[top_border, :] == border_color_bgr):\n",
    "        top_border += 1\n",
    "\n",
    "    bottom_border = screen_height - 1\n",
    "    while bottom_border >= 0 and np.all(screen[bottom_border, :] == border_color_bgr):\n",
    "        bottom_border -= 1\n",
    "\n",
    "    left_border = 0\n",
    "    while left_border < screen_width and np.all(screen[:, left_border] == border_color_bgr):\n",
    "        left_border += 1\n",
    "\n",
    "    right_border = screen_width - 1\n",
    "    while right_border >= 0 and np.all(screen[:, right_border] == border_color_bgr):\n",
    "        right_border -= 1\n",
    "\n",
    "    # 檢查是否找到了有效的非邊界區域\n",
    "    if top_border < bottom_border and left_border < right_border:\n",
    "        return left_border, top_border, right_border - left_border + 1, bottom_border - top_border + 1\n",
    "    else:\n",
    "        return None\n",
    "\n",
    "if __name__ == \"__main__\":\n",
    "    print(\"Starting game border detection. Press 'q' to quit.\")\n",
    "    time.sleep(2)\n",
    "\n",
    "    while True:\n",
    "        screen = get_screen()\n",
    "        game_border = detect_game_border(screen)\n",
    "\n",
    "        overlay = screen.copy()\n",
    "        if game_border:\n",
    "            x, y, w, h = game_border\n",
    "            cv2.rectangle(overlay, (x, y), (x + w - 1, y + h - 1), (0, 255, 0), 2) # Green rectangle for border\n",
    "            print(f\"Detected game border: x={x}, y={y}, width={w}, height={h}\")\n",
    "        else:\n",
    "            print(\"Game border not detected.\")\n",
    "\n",
    "        cv2.imshow(\"Game Border Detection\", overlay)\n",
    "\n",
    "        if cv2.waitKey(100) & 0xFF == ord('q'):\n",
    "            break\n",
    "\n",
    "    cv2.destroyAllWindows()"
   ]
  }
 ],
 "metadata": {
  "kernelspec": {
   "display_name": "Python 3 (ipykernel)",
   "language": "python",
   "name": "python3"
  },
  "language_info": {
   "codemirror_mode": {
    "name": "ipython",
    "version": 3
   },
   "file_extension": ".py",
   "mimetype": "text/x-python",
   "name": "python",
   "nbconvert_exporter": "python",
   "pygments_lexer": "ipython3",
   "version": "3.9.21"
  }
 },
 "nbformat": 4,
 "nbformat_minor": 5
}
